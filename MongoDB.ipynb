{
  "nbformat": 4,
  "nbformat_minor": 0,
  "metadata": {
    "colab": {
      "provenance": [],
      "authorship_tag": "ABX9TyPcmESognt2n06gIihsl67u",
      "include_colab_link": true
    },
    "kernelspec": {
      "name": "python3",
      "display_name": "Python 3"
    },
    "language_info": {
      "name": "python"
    }
  },
  "cells": [
    {
      "cell_type": "markdown",
      "metadata": {
        "id": "view-in-github",
        "colab_type": "text"
      },
      "source": [
        "<a href=\"https://colab.research.google.com/github/DIVYA14797/API/blob/main/MongoDB.ipynb\" target=\"_parent\"><img src=\"https://colab.research.google.com/assets/colab-badge.svg\" alt=\"Open In Colab\"/></a>"
      ]
    },
    {
      "cell_type": "code",
      "execution_count": null,
      "metadata": {
        "id": "SeapzDKGdEV8"
      },
      "outputs": [],
      "source": []
    },
    {
      "cell_type": "markdown",
      "source": [
        "1. What is MongoDB ? Explain non-relational databases in short . In which scenarios it is preferred to use MongoDB over SQL databases ?\n",
        "\n"
      ],
      "metadata": {
        "id": "YGkYffwQdO1H"
      }
    },
    {
      "cell_type": "markdown",
      "source": [
        "MongoDB is a popular, open-source, document-oriented NoSQL (non-relational) database program. It stores data in flexible, JSON-like documents, meaning fields can vary from document to document and data structures can be altered over time. MongoDB is designed for scalability, performance, and high availability.\n",
        "\n",
        "Non-relational databases, also known as NoSQL databases, depart from traditional relational database models by offering more flexible data storage options. They are particularly useful when dealing with unstructured or semi-structured data, as they don't require a predefined schema. NoSQL databases can handle large volumes of data and are often used in distributed systems.\n",
        "\n",
        "MongoDB is preferred over SQL databases in scenarios such as:\n",
        "\n",
        "1. Scalability: MongoDB can horizontally scale out across multiple servers with ease, making it suitable for handling large volumes of data and high traffic loads.\n",
        "\n",
        "2. Flexibility: Its schema-less design allows for dynamic and flexible data models. This is advantageous when dealing with rapidly changing data structures or when the data model is not well-defined upfront.\n",
        "\n",
        "3. Speed: MongoDB can provide faster read and write operations compared to traditional SQL databases, especially for certain types of applications where real-time data processing is crucial.\n",
        "\n",
        "4. Big Data: MongoDB is well-suited for handling big data applications, where data volumes are huge and traditional relational databases might struggle to cope efficiently.\n",
        "\n",
        "5. Document-Oriented: If your application requires storing data in a document format (e.g., JSON), MongoDB's document-oriented nature makes it a natural choice, offering simplicity and efficiency in data storage and retrieval.\n",
        "\n",
        "6. Agile Development: In agile development environments, where requirements evolve rapidly, MongoDB's flexible schema allows for easier iteration and adaptation without requiring complex migrations.\n",
        "\n",
        "However, it's important to note that the choice between MongoDB and SQL databases depends on various factors such as the nature of your data, the specific requirements of your application, the skillset of your development team, and the overall architecture of your system. Each type of database has its strengths and weaknesses, and the decision should be based on a careful evaluation of these factors.\n",
        "\n",
        "\n",
        "\n",
        "\n",
        "\n"
      ],
      "metadata": {
        "id": "nY5LGdvFdRX4"
      }
    },
    {
      "cell_type": "code",
      "source": [],
      "metadata": {
        "id": "2y9Exs5pdk8Z"
      },
      "execution_count": null,
      "outputs": []
    },
    {
      "cell_type": "markdown",
      "source": [
        "2. State and explain the features of MongoDB ."
      ],
      "metadata": {
        "id": "_vOZ7N0KdlUL"
      }
    },
    {
      "cell_type": "markdown",
      "source": [
        "MongoDB is a widely used NoSQL database system known for its flexibility, scalability, and performance. Here are some of its key features:\n",
        "\n",
        "1. Document-Oriented: MongoDB stores data in flexible, JSON-like documents called BSON (Binary JSON). These documents can contain nested structures, arrays, and other complex data types, making it easy to represent and store data in a way that mirrors application objects.\n",
        "\n",
        "2. Dynamic Schema: Unlike traditional SQL databases, MongoDB does not require a predefined schema for data. Each document in a collection can have its own unique structure, allowing for easy schema evolution and adaptation to changing data requirements.\n",
        "\n",
        "3. High Availability: MongoDB provides built-in support for high availability through replica sets. Replica sets consist of multiple copies of data distributed across different servers, ensuring automatic failover and data redundancy in case of server failures.\n",
        "\n",
        "4. Horizontal Scalability: MongoDB can scale horizontally across multiple servers using sharding. Sharding involves partitioning data across different machines based on a shard key, allowing MongoDB to handle large datasets and high traffic loads with ease.\n",
        "\n",
        "5. Flexible Query Language: MongoDB's query language is powerful and expressive, supporting a wide range of operations including CRUD (Create, Read, Update, Delete), aggregation, indexing, geospatial queries, and full-text search. Queries are written in JSON-like syntax and are easy to understand and use.\n",
        "\n",
        "6. Indexing: MongoDB supports various types of indexes, including single field, compound, multi-key, geospatial, and text indexes. Indexes can significantly improve query performance by allowing MongoDB to quickly locate and retrieve data based on specified criteria.\n",
        "\n",
        "7. Ad Hoc Queries: MongoDB supports ad hoc queries, allowing developers to query data without needing to define explicit schema or indexes beforehand. This flexibility makes MongoDB well-suited for agile development environments where requirements are subject to change.\n",
        "\n",
        "8. Aggregation Framework: MongoDB provides a powerful aggregation framework for performing complex data aggregation operations such as grouping, filtering, sorting, and calculating aggregate values. This allows developers to perform analytics and generate insights directly within the database.\n",
        "\n",
        "9. Geospatial Capabilities: MongoDB has built-in support for geospatial indexing and queries, making it ideal for applications that require location-based features such as mapping, proximity search, and location-based analytics.\n",
        "\n",
        "10. Security: MongoDB offers robust security features including authentication, authorization, role-based access control (RBAC), SSL/TLS encryption, and auditing. These features help ensure the confidentiality, integrity, and availability of data stored in MongoDB databases.\n",
        "\n",
        "Overall, MongoDB's features make it a versatile and powerful database solution for a wide range of applications, from small-scale projects to large-scale enterprise systems.\n",
        "\n",
        "\n",
        "\n",
        "\n",
        "\n"
      ],
      "metadata": {
        "id": "asqE7ZDfdqg4"
      }
    },
    {
      "cell_type": "code",
      "source": [],
      "metadata": {
        "id": "DOR44VnLeHkb"
      },
      "execution_count": null,
      "outputs": []
    },
    {
      "cell_type": "markdown",
      "source": [
        "3. Write a code to connect MongoDB to python . Also , create a database and a collection in MongoDB ."
      ],
      "metadata": {
        "id": "LfmuomkCeIA0"
      }
    },
    {
      "cell_type": "code",
      "source": [
        "pip install pymongo"
      ],
      "metadata": {
        "colab": {
          "base_uri": "https://localhost:8080/"
        },
        "id": "JqSj8iSteYBD",
        "outputId": "ff7e92b8-22d7-420d-d9bb-3754464b707e"
      },
      "execution_count": null,
      "outputs": [
        {
          "output_type": "stream",
          "name": "stdout",
          "text": [
            "Requirement already satisfied: pymongo in /usr/local/lib/python3.10/dist-packages (4.6.3)\n",
            "Requirement already satisfied: dnspython<3.0.0,>=1.16.0 in /usr/local/lib/python3.10/dist-packages (from pymongo) (2.6.1)\n"
          ]
        }
      ]
    },
    {
      "cell_type": "code",
      "source": [
        "import pymongo\n",
        "\n",
        "# Establish a connection to MongoDB\n",
        "client = pymongo.MongoClient(\"mongodb://remote_server_ip:27017/\")  # Assuming MongoDB is running on localhost\n",
        "\n",
        "# Create or access a database\n",
        "my_database = client[\"my_database\"]\n",
        "\n",
        "# Create or access a collection within the database\n",
        "my_collection = my_database[\"my_collection\"]\n",
        "\n",
        "# Insert a document into the collection\n",
        "data = {\"name\": \"John\", \"age\": 30, \"city\": \"New York\"}\n",
        "insert_result = my_collection.insert_one(data)\n",
        "print(\"Inserted document ID:\", insert_result.inserted_id)\n",
        "\n",
        "# Close the connection (optional)\n",
        "client.close()"
      ],
      "metadata": {
        "id": "Kj4NZ4objv_h"
      },
      "execution_count": null,
      "outputs": []
    },
    {
      "cell_type": "code",
      "source": [],
      "metadata": {
        "id": "XqgQMfKfjxtw"
      },
      "execution_count": null,
      "outputs": []
    },
    {
      "cell_type": "markdown",
      "source": [
        "3. Using the database and the collection created in above question , write a code to insert one record , and insert many records . Use the find() and find_one () methods to print the inserted record ."
      ],
      "metadata": {
        "id": "RsFQLTKDfzGp"
      }
    },
    {
      "cell_type": "code",
      "source": [
        "import pymongo\n",
        "\n",
        "# Establish a connection to MongoDB\n",
        "client = pymongo.MongoClient(\"mongodb://localhost:27017/\")  # Assuming MongoDB is running on localhost\n",
        "\n",
        "# Access the database and collection\n",
        "my_database = client[\"my_database\"]\n",
        "my_collection = my_database[\"my_collection\"]\n",
        "\n",
        "# Insert one record\n",
        "data_one = {\"name\": \"Alice\", \"age\": 25, \"city\": \"London\"}\n",
        "insert_result_one = my_collection.insert_one(data_one)\n",
        "print(\"Inserted document ID (One):\", insert_result_one.inserted_id)\n",
        "\n",
        "# Insert many records\n",
        "data_many = [\n",
        "    {\"name\": \"Bob\", \"age\": 35, \"city\": \"Paris\"},\n",
        "    {\"name\": \"Charlie\", \"age\": 40, \"city\": \"Berlin\"},\n",
        "    {\"name\": \"David\", \"age\": 28, \"city\": \"Tokyo\"}\n",
        "]\n",
        "insert_result_many = my_collection.insert_many(data_many)\n",
        "print(\"Inserted document IDs (Many):\", insert_result_many.inserted_ids)\n",
        "\n",
        "# Find and print one inserted record\n",
        "print(\"\\nFind One Record:\")\n",
        "print(my_collection.find_one({\"name\": \"Alice\"}))\n",
        "\n",
        "# Find and print all inserted records\n",
        "print(\"\\nFind All Records:\")\n",
        "for record in my_collection.find():\n",
        "    print(record)\n",
        "\n",
        "# Close the connection\n",
        "client.close()"
      ],
      "metadata": {
        "id": "BBD7bnjzkTPp"
      },
      "execution_count": null,
      "outputs": []
    },
    {
      "cell_type": "code",
      "source": [],
      "metadata": {
        "id": "Zqkv8B0ckY4c"
      },
      "execution_count": null,
      "outputs": []
    },
    {
      "cell_type": "markdown",
      "source": [
        "4. Explain how you can use the find() method to query the MongoDB database . Write a simple code to demonstrate this ."
      ],
      "metadata": {
        "id": "mgTEEZCgkc0x"
      }
    },
    {
      "cell_type": "markdown",
      "source": [
        "The find() method in MongoDB is used to query a collection for documents that match certain criteria. It returns a cursor, which can be iterated over to access the matching documents. You can specify query criteria using a document with key-value pairs representing the fields and their corresponding values to match.\n",
        "\n",
        "Here's a simple demonstration of how you can use the find() method in Python with PyMongo to query a MongoDB database:"
      ],
      "metadata": {
        "id": "cCV-GMLbkmoQ"
      }
    },
    {
      "cell_type": "code",
      "source": [
        "import pymongo\n",
        "\n",
        "# Establish a connection to MongoDB\n",
        "client = pymongo.MongoClient(\"mongodb://localhost:27017/\")  # Assuming MongoDB is running on localhost\n",
        "\n",
        "# Access the database and collection\n",
        "my_database = client[\"my_database\"]\n",
        "my_collection = my_database[\"my_collection\"]\n",
        "\n",
        "# Insert some sample data for demonstration\n",
        "data = [\n",
        "    {\"name\": \"Alice\", \"age\": 25, \"city\": \"London\"},\n",
        "    {\"name\": \"Bob\", \"age\": 35, \"city\": \"Paris\"},\n",
        "    {\"name\": \"Charlie\", \"age\": 40, \"city\": \"Berlin\"},\n",
        "    {\"name\": \"David\", \"age\": 28, \"city\": \"Tokyo\"}\n",
        "]\n",
        "my_collection.insert_many(data)\n",
        "\n",
        "# Find documents where age is greater than 30\n",
        "query = {\"age\": {\"$gt\": 30}}\n",
        "results = my_collection.find(query)\n",
        "\n",
        "# Print matching documents\n",
        "print(\"Documents where age is greater than 30:\")\n",
        "for doc in results:\n",
        "    print(doc)\n",
        "\n",
        "# Close the connection\n",
        "client.close()"
      ],
      "metadata": {
        "id": "0p53E8SkkpuO"
      },
      "execution_count": null,
      "outputs": []
    },
    {
      "cell_type": "code",
      "source": [],
      "metadata": {
        "id": "E59rkW2-kyA5"
      },
      "execution_count": null,
      "outputs": []
    },
    {
      "cell_type": "markdown",
      "source": [
        "5. Explain the sort() method . Give an example to demonstrate sorting in MongoDB ."
      ],
      "metadata": {
        "id": "-3hDUrTwkyXb"
      }
    },
    {
      "cell_type": "markdown",
      "source": [
        "The sort() method in MongoDB is used to sort the results of a query based on one or more fields in either ascending or descending order. It allows you to control the order in which documents are returned from a query.\n",
        "\n",
        "The basic syntax for the sort() method is:"
      ],
      "metadata": {
        "id": "bRMbrM-Ak7Vi"
      }
    },
    {
      "cell_type": "code",
      "source": [
        "collection.find(query).sort(field_or_list, direction)"
      ],
      "metadata": {
        "id": "cS26TCERk8ob"
      },
      "execution_count": null,
      "outputs": []
    },
    {
      "cell_type": "markdown",
      "source": [
        "* query: Optional. Specifies the query criteria to filter the documents.\n",
        "* field_or_list: The field or fields based on which the sorting should be applied. This can be a single field or a list of fields.\n",
        "* direction: Optional. Specifies the sorting order. It can be either pymongo.ASCENDING (1) for ascending order or pymongo.DESCENDING (-1) for descending order. If not specified, the default is ascending order.\n",
        "\n",
        "Here's an example to demonstrate sorting in MongoDB using the sort() method:"
      ],
      "metadata": {
        "id": "NglhKpUglSD8"
      }
    },
    {
      "cell_type": "code",
      "source": [
        "\n",
        "import pymongo\n",
        "\n",
        "# Establish a connection to MongoDB\n",
        "client = pymongo.MongoClient(\"mongodb://localhost:27017/\")  # Assuming MongoDB is running on localhost\n",
        "\n",
        "# Access the database and collection\n",
        "my_database = client[\"my_database\"]\n",
        "my_collection = my_database[\"my_collection\"]\n",
        "\n",
        "# Insert some sample data for demonstration\n",
        "data = [\n",
        "    {\"name\": \"Alice\", \"age\": 25, \"city\": \"London\"},\n",
        "    {\"name\": \"Bob\", \"age\": 35, \"city\": \"Paris\"},\n",
        "    {\"name\": \"Charlie\", \"age\": 40, \"city\": \"Berlin\"},\n",
        "    {\"name\": \"David\", \"age\": 28, \"city\": \"Tokyo\"}\n",
        "]\n",
        "my_collection.insert_many(data)\n",
        "\n",
        "# Find and sort documents based on age in ascending order\n",
        "results_asc = my_collection.find().sort(\"age\", pymongo.ASCENDING)\n",
        "print(\"Documents sorted by age in ascending order:\")\n",
        "for doc in results_asc:\n",
        "    print(doc)\n",
        "\n",
        "# Find and sort documents based on age in descending order\n",
        "results_desc = my_collection.find().sort(\"age\", pymongo.DESCENDING)\n",
        "print(\"\\nDocuments sorted by age in descending order:\")\n",
        "for doc in results_desc:\n",
        "    print(doc)\n",
        "\n",
        "# Close the connection\n",
        "client.close()"
      ],
      "metadata": {
        "id": "qhg-RHN1lkh8"
      },
      "execution_count": null,
      "outputs": []
    },
    {
      "cell_type": "code",
      "source": [],
      "metadata": {
        "id": "mLrq-YmNluav"
      },
      "execution_count": null,
      "outputs": []
    },
    {
      "cell_type": "markdown",
      "source": [
        "6. Explain why delete_one() , delete_many() , and drop() is used ."
      ],
      "metadata": {
        "id": "U2PJRfXwluu0"
      }
    },
    {
      "cell_type": "markdown",
      "source": [
        "In MongoDB, the delete_one(), delete_many(), and drop() methods are used for removing data from collections and dropping entire collections, each serving different purposes:\n",
        "\n",
        "1. delete_one(): This method is used to delete a single document that matches a specified filter criteria. It removes the first document that matches the filter from the collection.\n",
        "\n",
        "Syntax:"
      ],
      "metadata": {
        "id": "21Wb05CPl0Zb"
      }
    },
    {
      "cell_type": "code",
      "source": [
        "collection.delete_one(filter)"
      ],
      "metadata": {
        "id": "53q1fJ4il7t0"
      },
      "execution_count": null,
      "outputs": []
    },
    {
      "cell_type": "markdown",
      "source": [
        "* filter: Specifies the criteria for matching documents to be deleted.\n",
        "\n",
        "Example:"
      ],
      "metadata": {
        "id": "-XtpbCaBl9Jz"
      }
    },
    {
      "cell_type": "code",
      "source": [
        "result = collection.delete_one({\"name\": \"Alice\"})"
      ],
      "metadata": {
        "id": "-AYKTWZdmHt2"
      },
      "execution_count": null,
      "outputs": []
    },
    {
      "cell_type": "markdown",
      "source": [
        "This code will delete the first document where the \"name\" field matches \"Alice\" from the collection.\n",
        "\n",
        "2. delete_many(): This method is used to delete multiple documents that match a specified filter criteria. It removes all documents that match the filter from the collection.\n",
        "\n",
        "Syntax:"
      ],
      "metadata": {
        "id": "zMFkVAdKmOjQ"
      }
    },
    {
      "cell_type": "code",
      "source": [
        "collection.delete_many(filter)"
      ],
      "metadata": {
        "id": "NL3VpkWDmRz6"
      },
      "execution_count": null,
      "outputs": []
    },
    {
      "cell_type": "markdown",
      "source": [
        "* filter: Specifies the criteria for matching documents to be deleted.\n",
        "\n",
        "Example:\n",
        "\n"
      ],
      "metadata": {
        "id": "hdQKkbtemW7F"
      }
    },
    {
      "cell_type": "code",
      "source": [
        "result = collection.delete_many({\"age\": {\"$gt\": 30}})"
      ],
      "metadata": {
        "id": "v758KFYQmebf"
      },
      "execution_count": null,
      "outputs": []
    },
    {
      "cell_type": "markdown",
      "source": [
        "This code will delete all documents where the \"age\" field is greater than 30 from the collection.\n",
        "\n",
        "3. drop(): This method is used to drop an entire collection from the database. It permanently removes the collection along with all its documents and indexes.\n",
        "\n",
        "Syntax:"
      ],
      "metadata": {
        "id": "9wgbz48xmi7J"
      }
    },
    {
      "cell_type": "code",
      "source": [
        "collection.drop()"
      ],
      "metadata": {
        "id": "QoLew-OCmrPI"
      },
      "execution_count": null,
      "outputs": []
    },
    {
      "cell_type": "markdown",
      "source": [
        "Example:"
      ],
      "metadata": {
        "id": "7T9TuvWGmwPk"
      }
    },
    {
      "cell_type": "code",
      "source": [
        "collection.drop()"
      ],
      "metadata": {
        "id": "e8nmGVd6mzl5"
      },
      "execution_count": null,
      "outputs": []
    },
    {
      "cell_type": "markdown",
      "source": [
        "This code will drop the entire collection from the database.\n",
        "\n",
        "These methods are useful for managing data in MongoDB collections. delete_one() and delete_many() allow for targeted removal of documents based on specified criteria, while drop() provides a way to remove entire collections. It's important to use these methods with caution, especially drop(), as it permanently removes data and cannot be undone. Always ensure that you have appropriate backups or data preservation strategies in place before performing deletions or drops in a production environment.\n",
        "\n",
        "\n"
      ],
      "metadata": {
        "id": "1SYeGTg0m3ef"
      }
    },
    {
      "cell_type": "code",
      "source": [],
      "metadata": {
        "id": "HZvBwN-xnKHp"
      },
      "execution_count": null,
      "outputs": []
    }
  ]
}