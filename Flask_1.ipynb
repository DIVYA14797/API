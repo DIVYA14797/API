{
  "nbformat": 4,
  "nbformat_minor": 0,
  "metadata": {
    "colab": {
      "provenance": [],
      "authorship_tag": "ABX9TyPXeiEThwBzI64L878zGjA1",
      "include_colab_link": true
    },
    "kernelspec": {
      "name": "python3",
      "display_name": "Python 3"
    },
    "language_info": {
      "name": "python"
    }
  },
  "cells": [
    {
      "cell_type": "markdown",
      "metadata": {
        "id": "view-in-github",
        "colab_type": "text"
      },
      "source": [
        "<a href=\"https://colab.research.google.com/github/DIVYA14797/API/blob/main/Flask_1.ipynb\" target=\"_parent\"><img src=\"https://colab.research.google.com/assets/colab-badge.svg\" alt=\"Open In Colab\"/></a>"
      ]
    },
    {
      "cell_type": "code",
      "execution_count": null,
      "metadata": {
        "id": "2NUAa0SrvGV8"
      },
      "outputs": [],
      "source": []
    },
    {
      "cell_type": "markdown",
      "source": [
        "1. What is Flask Framework ? What are the advantages of Flask Framework ?\n"
      ],
      "metadata": {
        "id": "-1LnTJwPvN44"
      }
    },
    {
      "cell_type": "markdown",
      "source": [
        "Flask is a lightweight web application framework for Python. It is designed to be simple, flexible, and easy to use, making it an excellent choice for building web applications and APIs. Flask is often referred to as a \"micro\" framework because it does not have many built-in features like some larger frameworks such as Django. Instead, Flask focuses on providing the core functionality needed for web development while allowing developers to easily extend and customize it as needed.\n",
        "\n",
        "Advantages of Flask Framework:\n",
        "\n",
        "1. Simplicity: Flask has a simple and intuitive API that makes it easy to get started with web development. Its minimalist design allows developers to focus on building their applications without unnecessary overhead or complexity.\n",
        "\n",
        "2. Flexibility: Flask is highly flexible and customizable. It allows developers to choose the components they need for their specific project requirements and integrate them seamlessly into their application. Flask does not impose strict conventions or project structures, giving developers the freedom to organize their code as they see fit.\n",
        "\n",
        "3. Extensibility: Flask provides a modular architecture that allows developers to easily extend its functionality using third-party extensions or libraries. There is a large ecosystem of Flask extensions available for adding features like authentication, database integration, form validation, and more.\n",
        "\n",
        "4. Lightweight: Flask is lightweight in terms of both codebase and resource usage. It has minimal dependencies and does not include unnecessary features, resulting in smaller application footprints and faster performance.\n",
        "\n",
        "5. Easy to Learn: Flask's simplicity and minimalist design make it easy for developers to learn and understand. Its clear documentation and community resources make it accessible to developers of all skill levels, including beginners.\n",
        "\n",
        "6. Jinja2 Templating: Flask uses the Jinja2 template engine, which provides powerful and flexible templating capabilities for generating HTML and other content. Jinja2 templates are easy to write and maintain, making it easy to create dynamic web pages.\n",
        "\n",
        "7. Built-in Development Server: Flask comes with a built-in development server that makes it easy to test and debug applications locally. The development server automatically reloads the application when changes are detected, making the development process more efficient.\n",
        "\n",
        "8. Werkzeug Integration: Flask is built on top of the Werkzeug WSGI toolkit, which provides low-level utilities for handling HTTP requests and responses. This integration allows Flask to leverage Werkzeug's powerful routing, debugging, and middleware capabilities.\n",
        "\n",
        "Overall, Flask's simplicity, flexibility, and extensibility make it a popular choice for building web applications and APIs in Python. It is well-suited for a wide range of projects, from small prototypes to large-scale production applications."
      ],
      "metadata": {
        "id": "wkqPWrhlvPU1"
      }
    },
    {
      "cell_type": "code",
      "source": [],
      "metadata": {
        "id": "cE5B4ccUvfTB"
      },
      "execution_count": null,
      "outputs": []
    },
    {
      "cell_type": "markdown",
      "source": [
        "2. Create a simple Flask application to display 'Hello World!!' . Attach the screenshot of the output in Jupyter Notebook ."
      ],
      "metadata": {
        "id": "rqrnkzYJxOga"
      }
    },
    {
      "cell_type": "markdown",
      "source": [],
      "metadata": {
        "id": "MFmA4I5OxoPL"
      }
    },
    {
      "cell_type": "code",
      "source": [],
      "metadata": {
        "id": "Bs-lJ84ixomn"
      },
      "execution_count": null,
      "outputs": []
    },
    {
      "cell_type": "markdown",
      "source": [
        "3. What is App routing in Flask ? Why do we use app routes ?"
      ],
      "metadata": {
        "id": "OhE5doXFxpJw"
      }
    },
    {
      "cell_type": "markdown",
      "source": [
        "\n",
        "In Flask, app routing refers to the process of mapping URLs (or routes) to view functions within a Flask application. Each route defines a specific URL pattern and associates it with a view function, which generates the HTTP response for that URL.\n",
        "\n",
        " App routing in Flask is used for several reasons:\n",
        "\n",
        "1. URL Mapping: App routing allows developers to map specific URLs to corresponding view functions, providing a clear and organized structure for handling different parts of the application.\n",
        "\n",
        "2. Separation of Concerns: By defining routes and view functions separately, Flask promotes separation of concerns, allowing developers to focus on implementing specific features or functionalities without mixing routing logic with application logic.\n",
        "\n",
        "3. Dynamic Content: App routing enables the creation of dynamic URLs with variable parts, allowing for more flexible and parameterized routing based on user input or other dynamic factors.\n",
        "\n",
        "4. HTTP Method Handling: Flask's routing system supports different HTTP methods, allowing developers to define separate handling logic for GET, POST, PUT, DELETE, etc., requests on the same URL."
      ],
      "metadata": {
        "id": "SBweKaI3x4ZJ"
      }
    },
    {
      "cell_type": "code",
      "source": [],
      "metadata": {
        "id": "8h0A7Diyx99h"
      },
      "execution_count": null,
      "outputs": []
    },
    {
      "cell_type": "markdown",
      "source": [
        "5. What function is used in Flask for URL Building ? Write a python code to demonstrate the working of the url_for() function .\n",
        "\n"
      ],
      "metadata": {
        "id": "NqCCDU4ey4lg"
      }
    },
    {
      "cell_type": "markdown",
      "source": [
        "In Flask, the url_for() function is used for URL building. It generates URLs for the given endpoint and arguments by looking up the endpoint's associated route. This allows developers to avoid hardcoding URLs in templates or view functions, making the application more maintainable and flexible.\n",
        "\n",
        "Here's a Python code demonstrating the usage of the url_for() function in Flask:"
      ],
      "metadata": {
        "id": "urqnERb0y-sN"
      }
    },
    {
      "cell_type": "code",
      "source": [
        "from flask import Flask, url_for\n",
        "\n",
        "# Create a Flask application\n",
        "app = Flask(__name__)\n",
        "\n",
        "# Define a route for the index page\n",
        "@app.route('/')\n",
        "def index():\n",
        "    return 'Index Page'\n",
        "\n",
        "# Define a route for the user profile page\n",
        "@app.route('/user/<username>')\n",
        "def profile(username):\n",
        "    return f'User {username}'\n",
        "\n",
        "# Define a route for the login page\n",
        "@app.route('/login')\n",
        "def login():\n",
        "    return 'Login Page'\n",
        "\n",
        "# Define a route for the static file page\n",
        "@app.route('/static')\n",
        "def static():\n",
        "    # Assume 'static' is a folder containing static files like 'style.css'\n",
        "    # Use url_for() to generate a URL for the static file 'style.css'\n",
        "    css_url = url_for('static', filename='style.css')\n",
        "    return f'<link rel=\"stylesheet\" type=\"text/css\" href=\"{css_url}\">'\n",
        "\n",
        "# Run the Flask application\n",
        "if __name__ == '__main__':\n",
        "    app.run(debug=True)"
      ],
      "metadata": {
        "id": "EomG7hjczFEO"
      },
      "execution_count": null,
      "outputs": []
    },
    {
      "cell_type": "code",
      "source": [],
      "metadata": {
        "id": "6EdU4toNzNAt"
      },
      "execution_count": null,
      "outputs": []
    }
  ]
}