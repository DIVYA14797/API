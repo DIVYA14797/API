{
  "nbformat": 4,
  "nbformat_minor": 0,
  "metadata": {
    "colab": {
      "provenance": [],
      "authorship_tag": "ABX9TyP2r+QzXvjAZ875UQ1JZXiE",
      "include_colab_link": true
    },
    "kernelspec": {
      "name": "python3",
      "display_name": "Python 3"
    },
    "language_info": {
      "name": "python"
    }
  },
  "cells": [
    {
      "cell_type": "markdown",
      "metadata": {
        "id": "view-in-github",
        "colab_type": "text"
      },
      "source": [
        "<a href=\"https://colab.research.google.com/github/DIVYA14797/API/blob/main/Flask_2.ipynb\" target=\"_parent\"><img src=\"https://colab.research.google.com/assets/colab-badge.svg\" alt=\"Open In Colab\"/></a>"
      ]
    },
    {
      "cell_type": "code",
      "execution_count": null,
      "metadata": {
        "id": "wU5nnSG3Mj7q"
      },
      "outputs": [],
      "source": []
    },
    {
      "cell_type": "markdown",
      "source": [
        "1. Explain GET and POST methods .\n",
        "\n"
      ],
      "metadata": {
        "id": "Uz001-0AMl--"
      }
    },
    {
      "cell_type": "markdown",
      "source": [
        "GET and POST are two commonly used HTTP methods, which are used by web browsers and servers to communicate when requesting or submitting resources, typically in the context of web applications.\n",
        "\n",
        "1. GET Method:\n",
        "\n",
        "* GET is used to request data from a specified resource.\n",
        "* When a client (usually a web browser) sends a GET request to a server, it is asking for data from that server.\n",
        "* GET requests can be cached and bookmarked because they don't change the server state.\n",
        "* GET requests can be visible in the URL of the browser, as parameters are appended to the URL.\n",
        "* GET requests are typically used for operations that are idempotent, meaning they don't change the state of the server. For example, retrieving information from a server, like fetching a webpage, is an idempotent operation because it doesn't change any data on the server.\n",
        "\n",
        "2. POST Method:\n",
        "\n",
        "* POST is used to submit data to be processed to a specified resource.\n",
        "* When a client sends a POST request to a server, it is asking the server to accept the data contained in the body of the request and process it, usually to update a resource or trigger some action on the server.\n",
        "* POST requests are not cached and cannot be bookmarked because they may change the server state.\n",
        "* POST requests typically don't show parameters in the URL, as the data is sent in the body of the request.\n",
        "* POST requests are often used when submitting forms on a webpage, where the data entered by the user needs to be sent to the server for processing.\n",
        "\n",
        "In summary, GET requests are used to retrieve data from a server, while POST requests are used to submit data to a server for processing. GET requests are typically used for idempotent operations, whereas POST requests are used for operations that may change the state of the server."
      ],
      "metadata": {
        "id": "bSY2lxShMsf9"
      }
    },
    {
      "cell_type": "code",
      "source": [],
      "metadata": {
        "id": "_fUYn19DNHHB"
      },
      "execution_count": null,
      "outputs": []
    },
    {
      "cell_type": "markdown",
      "source": [
        "2. Why is request used in Flask ?"
      ],
      "metadata": {
        "id": "NOXFeIttNHfr"
      }
    },
    {
      "cell_type": "markdown",
      "source": [
        "In Flask, request is a built-in object that represents the HTTP request sent by the client (usually a web browser) to the server. It encapsulates all the information about the incoming request, such as the URL, HTTP headers, form data, cookies, and more. It allows Flask applications to access and process the data sent by the client.\n",
        "\n",
        "'request' is used in Flask for various purposes, including:\n",
        "\n",
        "1. Accessing Form Data: Flask applications often receive form data submitted by users. The request object provides methods like request.form to access this data.\n",
        "\n",
        "2. Accessing Query Parameters: When clients make GET requests with parameters in the URL (e.g., example.com/search?query=flask), Flask enables developers to access these parameters through the request.args attribute.\n",
        "\n",
        "3. Accessing Cookies: Cookies are small pieces of data sent by the server and stored on the client's browser. Flask allows developers to read and set cookies using the request.cookies attribute.\n",
        "\n",
        "4. Accessing HTTP Headers: HTTP headers provide additional information about the request. With Flask's request.headers, developers can access these headers to make decisions based on client information.\n",
        "\n",
        "5. Handling File Uploads: When clients upload files to the server, Flask allows developers to access these files through the request.files attribute.\n",
        "\n",
        "6. Accessing Request Method and URL: Developers can retrieve information about the HTTP request method (e.g., GET, POST) and the requested URL using request.method and request.url.\n",
        "\n",
        "By providing access to these components of the HTTP request, the request object in Flask facilitates the handling and processing of incoming requests within Flask applications. It allows developers to extract relevant data from the client's request and take appropriate actions in response.\n",
        "\n",
        "\n",
        "\n",
        "\n",
        "\n"
      ],
      "metadata": {
        "id": "sYYYGWW1NNKY"
      }
    },
    {
      "cell_type": "code",
      "source": [],
      "metadata": {
        "id": "k7Thqcr2NfPs"
      },
      "execution_count": null,
      "outputs": []
    },
    {
      "cell_type": "markdown",
      "source": [
        "3. Why is redirect() used in Flask ?"
      ],
      "metadata": {
        "id": "hjm-6O-UNfmf"
      }
    },
    {
      "cell_type": "markdown",
      "source": [
        "In Flask, redirect() is a function that is used to redirect the client's web browser to a different URL. It is commonly used to redirect users to another route or external URL after processing a request. Here are some reasons why redirect() is used in Flask:\n",
        "\n",
        "1. URL Redirection: After processing a form submission or performing some action, it is often necessary to redirect the user to a different URL. redirect() makes it easy to specify the target URL and send the appropriate HTTP response to the client's browser to redirect them.\n",
        "\n",
        "2. Route Handling: In web applications, certain routes may be deprecated or replaced with new routes. redirect() allows developers to gracefully handle these changes by automatically redirecting users to the new routes.\n",
        "\n",
        "3. Dynamic Redirection: Flask applications often need to perform dynamic redirection based on certain conditions. For example, after a user logs in, they may need to be redirected to their profile page. redirect() can be used to construct dynamic redirection URLs based on these conditions.\n",
        "\n",
        "4. External URL Redirection: redirect() can also be used to redirect users to external URLs, such as social media profiles, external documentation, or other web resources.\n",
        "\n",
        "5. Preventing Form Resubmission: After submitting a form, users may refresh the page, causing the form to be submitted again. This can lead to unintended duplicate submissions. Redirecting users to a different URL after form submission using redirect() helps prevent this issue.\n",
        "\n",
        "6. Cleaner URL Structure: Redirects can be used to enforce a cleaner URL structure for better usability and SEO purposes. For example, redirecting users from URLs with trailing slashes to URLs without trailing slashes.\n",
        "\n",
        "Overall, redirect() is a crucial tool in Flask for managing URL redirection and providing a smooth user experience in web applications by directing users to the appropriate destinations based on the application's logic and user interactions."
      ],
      "metadata": {
        "id": "jsQP7w0NNlEJ"
      }
    },
    {
      "cell_type": "code",
      "source": [],
      "metadata": {
        "id": "gjKbP2VKOClN"
      },
      "execution_count": null,
      "outputs": []
    },
    {
      "cell_type": "markdown",
      "source": [
        "4. What are templates in Flask ? Why is the render_template() function used ?\n",
        "\n"
      ],
      "metadata": {
        "id": "toNhRZVnODHT"
      }
    },
    {
      "cell_type": "markdown",
      "source": [
        "In Flask, templates are used to generate dynamic HTML content that is served to clients (usually web browsers) in response to HTTP requests. Templates allow developers to separate the presentation layer (HTML) from the business logic and data manipulation in their Flask application. This separation of concerns promotes cleaner and more maintainable code.\n",
        "\n",
        "Templates in Flask typically use the Jinja2 templating engine, which allows developers to embed Python code within HTML templates to dynamically generate content. Jinja2 provides features such as template inheritance, looping constructs, conditional statements, and variable interpolation, making it powerful for generating dynamic web pages.\n",
        "\n",
        "The render_template() function in Flask is used to render templates by passing data to them and returning the resulting HTML to the client's browser. Here's why render_template() is used:\n",
        "\n",
        "1. Dynamic Content Generation: render_template() allows developers to pass dynamic data from their Flask routes (Python functions) to the corresponding HTML templates. This enables the creation of dynamic web pages where content can change based on user input, database queries, or other factors.\n",
        "\n",
        "2. Template Inheritance: Flask supports template inheritance, where a base template can define the overall structure of a web page, and child templates can extend or override specific blocks within the base template. render_template() is used to render both the base and child templates, allowing for code reuse and maintainability.\n",
        "\n",
        "3. Separation of Concerns: By using templates, developers can separate the presentation layer (HTML markup) from the application logic (Python code). This separation makes the codebase easier to manage, understand, and modify, as changes to the HTML structure can be made independently of the backend logic.\n",
        "\n",
        "4. Code Reusability: Templates promote code reusability by allowing developers to define reusable components (e.g., headers, footers, navigation bars) that can be included in multiple pages. This reduces redundancy and promotes consistency across the application.\n",
        "\n",
        "5. Improved Maintainability: Templates facilitate better code organization and maintenance by encapsulating HTML markup within separate files. This makes it easier to locate and update specific sections of a web page without affecting other parts of the application.\n",
        "\n",
        "Overall, the render_template() function in Flask plays a crucial role in generating dynamic HTML content by rendering Jinja2 templates, thereby enabling the development of dynamic and maintainable web applications."
      ],
      "metadata": {
        "id": "krRERfojOJRL"
      }
    },
    {
      "cell_type": "code",
      "source": [],
      "metadata": {
        "id": "XgTBa3CfOf6b"
      },
      "execution_count": null,
      "outputs": []
    },
    {
      "cell_type": "markdown",
      "source": [
        "5. Create a simple API  . Use Post to test it .Attach the screenshot of the output in the Jupyter notebook ."
      ],
      "metadata": {
        "id": "ElxetrgXOgOv"
      }
    },
    {
      "cell_type": "code",
      "source": [
        "from flask import Flask, request, jsonify\n",
        "\n",
        "app = Flask(__name__)\n",
        "\n",
        "# Define a simple endpoint for our API\n",
        "@app.route('/api/add', methods=['POST'])\n",
        "def add_numbers():\n",
        "    # Get the JSON data from the request\n",
        "    data = request.json\n",
        "\n",
        "    # Check if 'num1' and 'num2' are provided in the JSON data\n",
        "    if 'num1' in data and 'num2' in data:\n",
        "        num1 = data['num1']\n",
        "        num2 = data['num2']\n",
        "\n",
        "        # Add the numbers\n",
        "        result = num1 + num2\n",
        "\n",
        "        # Return the result as JSON\n",
        "        return jsonify({'result': result}), 200\n",
        "    else:\n",
        "        # If 'num1' or 'num2' is missing, return an error\n",
        "        return jsonify({'error': 'Please provide both \"num1\" and \"num2\".'}), 400\n",
        "\n",
        "if __name__ == '__main__':\n",
        "    app.run(debug=True)"
      ],
      "metadata": {
        "id": "y3AkX9B-PGYz"
      },
      "execution_count": null,
      "outputs": []
    },
    {
      "cell_type": "code",
      "source": [
        "import requests\n",
        "\n",
        "# Define the URL of the API endpoint\n",
        "url = 'http://127.0.0.1:5000/api/add'\n",
        "\n",
        "# Define the JSON data to be sent in the POST request\n",
        "data = {\n",
        "    'num1': 5,\n",
        "    'num2': 3\n",
        "}\n",
        "\n",
        "# Send a POST request to the API endpoint\n",
        "response = requests.post(url, json=data)\n",
        "\n",
        "# Print the response\n",
        "print(response.json())"
      ],
      "metadata": {
        "id": "6ZDKaPvrPIBj"
      },
      "execution_count": null,
      "outputs": []
    },
    {
      "cell_type": "code",
      "source": [],
      "metadata": {
        "id": "NkYJlTJZPMCi"
      },
      "execution_count": null,
      "outputs": []
    }
  ]
}